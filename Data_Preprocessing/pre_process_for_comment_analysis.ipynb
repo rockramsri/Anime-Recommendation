{
 "cells": [
  {
   "cell_type": "code",
   "execution_count": 13,
   "metadata": {},
   "outputs": [],
   "source": [
    "import pandas as pd\n",
    "import numpy as np\n",
    "import spacy\n",
    "sp=spacy.load(\"en_core_web_lg\")"
   ]
  },
  {
   "cell_type": "code",
   "execution_count": 14,
   "metadata": {},
   "outputs": [
    {
     "name": "stderr",
     "output_type": "stream",
     "text": [
      "<>:1: SyntaxWarning: invalid escape sequence '\\M'\n",
      "<>:1: SyntaxWarning: invalid escape sequence '\\M'\n",
      "C:\\Users\\sriram\\AppData\\Local\\Temp\\ipykernel_11008\\2035118584.py:1: SyntaxWarning: invalid escape sequence '\\M'\n",
      "  myAnimeData=pd.read_csv(\"D:\\Ml projects\\AnimeProject\\Anime-Recommendation\\Data-Preparation\\AnimeDataScrapper\\MyAnimeListData.csv\")\n"
     ]
    },
    {
     "data": {
      "text/html": [
       "<div>\n",
       "<style scoped>\n",
       "    .dataframe tbody tr th:only-of-type {\n",
       "        vertical-align: middle;\n",
       "    }\n",
       "\n",
       "    .dataframe tbody tr th {\n",
       "        vertical-align: top;\n",
       "    }\n",
       "\n",
       "    .dataframe thead th {\n",
       "        text-align: right;\n",
       "    }\n",
       "</style>\n",
       "<table border=\"1\" class=\"dataframe\">\n",
       "  <thead>\n",
       "    <tr style=\"text-align: right;\">\n",
       "      <th></th>\n",
       "      <th>name</th>\n",
       "      <th>Review</th>\n",
       "      <th>animeName</th>\n",
       "    </tr>\n",
       "  </thead>\n",
       "  <tbody>\n",
       "    <tr>\n",
       "      <th>0</th>\n",
       "      <td>Roevhaal</td>\n",
       "      <td>b\"\\n                Oh boy, the seasonal battl...</td>\n",
       "      <td>Demon Slayer</td>\n",
       "    </tr>\n",
       "    <tr>\n",
       "      <th>1</th>\n",
       "      <td>Stark700</td>\n",
       "      <td>b\"\\n                Ah ufotable, the studio th...</td>\n",
       "      <td>Demon Slayer</td>\n",
       "    </tr>\n",
       "    <tr>\n",
       "      <th>2</th>\n",
       "      <td>The-Observer95</td>\n",
       "      <td>b'\\n                This is your typical Shoun...</td>\n",
       "      <td>Demon Slayer</td>\n",
       "    </tr>\n",
       "    <tr>\n",
       "      <th>3</th>\n",
       "      <td>diatehneko</td>\n",
       "      <td>b'\\n                [Spoiler Warning]\\n\\nI\\'m ...</td>\n",
       "      <td>Demon Slayer</td>\n",
       "    </tr>\n",
       "    <tr>\n",
       "      <th>4</th>\n",
       "      <td>Tsukihi_Phoenix</td>\n",
       "      <td>b\"\\n                I've just watch 6 episodes...</td>\n",
       "      <td>Demon Slayer</td>\n",
       "    </tr>\n",
       "  </tbody>\n",
       "</table>\n",
       "</div>"
      ],
      "text/plain": [
       "              name                                             Review  \\\n",
       "0         Roevhaal  b\"\\n                Oh boy, the seasonal battl...   \n",
       "1         Stark700  b\"\\n                Ah ufotable, the studio th...   \n",
       "2   The-Observer95  b'\\n                This is your typical Shoun...   \n",
       "3       diatehneko  b'\\n                [Spoiler Warning]\\n\\nI\\'m ...   \n",
       "4  Tsukihi_Phoenix  b\"\\n                I've just watch 6 episodes...   \n",
       "\n",
       "      animeName  \n",
       "0  Demon Slayer  \n",
       "1  Demon Slayer  \n",
       "2  Demon Slayer  \n",
       "3  Demon Slayer  \n",
       "4  Demon Slayer  "
      ]
     },
     "execution_count": 14,
     "metadata": {},
     "output_type": "execute_result"
    }
   ],
   "source": [
    "myAnimeData=pd.read_csv(\"D:\\Ml projects\\AnimeProject\\Anime-Recommendation\\Data-Preparation\\AnimeDataScrapper\\MyAnimeListData.csv\")\n",
    "myAnimeData.head()"
   ]
  },
  {
   "cell_type": "code",
   "execution_count": 15,
   "metadata": {},
   "outputs": [],
   "source": [
    "def preprocess_for_NLP(text):\n",
    "    modText=sp(text)\n",
    "    if modText!=None and len(modText)!=0:\n",
    "        text=\" \".join([word.lemma_ for word in modText if not (word.is_stop or word.is_punct or word.is_quote or word.is_space)])\n",
    "    return text.lower()"
   ]
  },
  {
   "cell_type": "code",
   "execution_count": 16,
   "metadata": {},
   "outputs": [
    {
     "name": "stdout",
     "output_type": "stream",
     "text": [
      "<class 'pandas.core.frame.DataFrame'>\n",
      "RangeIndex: 213 entries, 0 to 212\n",
      "Data columns (total 1 columns):\n",
      " #   Column  Non-Null Count  Dtype \n",
      "---  ------  --------------  ----- \n",
      " 0   Review  213 non-null    object\n",
      "dtypes: object(1)\n",
      "memory usage: 1.8+ KB\n"
     ]
    }
   ],
   "source": [
    "myAnimeData.drop(columns=['name','animeName'],inplace=True)\n",
    "myAnimeData.dropna(inplace=True)\n",
    "myAnimeData.info()"
   ]
  },
  {
   "cell_type": "code",
   "execution_count": 17,
   "metadata": {},
   "outputs": [
    {
     "data": {
      "text/plain": [
       "'b\\'\\\\n                this is my first review thank you for being indulgent\\\\n\\\\nfirst the scenario of Kimetsu no yaiba has nothing really remarkable it is in the end quite classic without big reversal of situation, nothing that makes him stand out from the lot. Tanjiro\\\\xc3\\\\xa2\\\\xe2\\\\x82\\\\xac\\\\xe2\\\\x84\\\\xa2s objective changes from that of the other classic shonen, the goal of our hero being simply to find a way to retransform his sister into a human, (the one or mainly that of the other shonen neketsu is to be the strongest). The anime regularly speaks to us because/thanks to this objective of family relations and confronts several visions of the family with\\\\n                  ...\\\\n          that of the other characters. This is for me what makes Kimetsu no yaiba differentiates itself from other anime, personally I had never seen before a anime talked about family relations this is perhaps why it marked methe characters seem to have a very thorough development, I hope that all the characters will have the right to a development.\\\\n\\\\n\\\\nNext the graphics of kimetsu no yaiba are very beautiful, (even if one could have thought that ufotable would have done better). The animation is just sublime, (probably one of the most animated anime I have seen). The style is quite clean a kimetsu no yaiba, (despite that this style really looks like that of other ufotable anime). The touch brought to the sword technique really make the whole beautiful (like the zenitsu lightning).\\\\n\\\\nThe seiyuu voices are good, (I didn\\\\xc3\\\\xa2\\\\xe2\\\\x82\\\\xac\\\\xe2\\\\x84\\\\xa2t really pay attention). The sound effects are also very good there is not really anything to complain about, the most important point of kimetsu no yaiba is the OST that is just amazing, (the composer being Yuki Kajiura,) all ost are a real pleasure to listen to, (my favorite being the Zen\\\\\\'itsu theme). The only regret for ost is that the one that came out the most is that of the famous episode 19, which is for me far from being the best. The opening is really good (probably one of the only ones I like among those of singer Lisa, the ending is also very cool even if it is less good than the opening.\\\\n\\\\nThe characters are interesting, some already have a good development, to see in the sequel if the others will have one as well, but I do not think that all will have a development. The chara design is really original, the most part are very colorful with colors that I rarely see in other anime (like the yellow of Zen\\\\\\'istu).\\\\n\\\\nWhat I like the most about this anime is really the ost, (Yuki Kajiura being probably my favorite composer it\\\\xc3\\\\xa2\\\\xe2\\\\x82\\\\xac\\\\xe2\\\\x84\\\\xa2s pretty logical). The animations are also really sublime (episode 19) the graphic quality is really beautiful, there is no personal that is zero they are all interesting, and brings all something to the anime is contributing to make Kimetsu no yaiba one of my favorite anime (shinobu <3).\\\\nHowever the scenario is not really transcendent, of the story in itself also it is in the final quite classical, the world of kimetsu no yaiba is really cliche, (people who fight with sabres and \"powers\" that make (almost), that fighting really reminds me of my opinion about anime before I start looking at it. (And this image is according to it\\\\\\'s probably in the worst that we can give to anime in my opinion). And this is probably the image that people who do not watch anime have anime\\\\n\\\\nTo conclude Kimetsu no yaiba is not good because the scenario is good, Kimetsu has made talk of him because it is pleasant to watch the animations are probably the best that have seen him for a shonen neketsu the ost are sublime is this is what makes us go into the anime (the animation and the ost allowed me to see the most epic anime I have ever seen)\\\\n              \\''"
      ]
     },
     "execution_count": 17,
     "metadata": {},
     "output_type": "execute_result"
    }
   ],
   "source": [
    "max(myAnimeData[\"Review\"])"
   ]
  },
  {
   "cell_type": "code",
   "execution_count": 18,
   "metadata": {},
   "outputs": [
    {
     "data": {
      "text/plain": [
       "\"b'\\\\n young sister survive demon attack rest family murder man eat demon \\\\n\\\\never death father tanjiro take support family good way \\\\n\\\\nbut day tanjiro arrive home meet bad nightmare family murder survivor young sister nezuko wrong start attack old brother turn man eat demon consume rage hatred.\\\\n\\\\n\\\\n \\\\n tanjiro close meet end eat sister unknown swordsman arrive try save man eat demon.\\\\n\\\\nbut tanjiro succede dodge attack go kill sister swordman later come realize man eat demon nezuko small sense humanity try save attack let live \\\\n\\\\nwhat follow fight tanjios live change forever get tip swordsman seek old man name sakonji urokodaki live foot mt. sagiri tip hope \\\\n\\\\nafter day tip hope tanjiro swear avenge family fin way turn young sister nezuko human know danger await journey \\\\n\\\\n\\\\n#animereviews\\\\n\""
      ]
     },
     "execution_count": 18,
     "metadata": {},
     "output_type": "execute_result"
    },
    {
     "ename": "",
     "evalue": "",
     "output_type": "error",
     "traceback": [
      "\u001b[1;31mThe Kernel crashed while executing code in the current cell or a previous cell. \n",
      "\u001b[1;31mPlease review the code in the cell(s) to identify a possible cause of the failure. \n",
      "\u001b[1;31mClick <a href='https://aka.ms/vscodeJupyterKernelCrash'>here</a> for more info. \n",
      "\u001b[1;31mView Jupyter <a href='command:jupyter.viewOutput'>log</a> for further details."
     ]
    }
   ],
   "source": [
    "newAnime=  myAnimeData[\"Review\"].apply(preprocess_for_NLP)\n",
    "max(newAnime)"
   ]
  },
  {
   "cell_type": "code",
   "execution_count": null,
   "metadata": {},
   "outputs": [],
   "source": []
  }
 ],
 "metadata": {
  "kernelspec": {
   "display_name": "Python 3",
   "language": "python",
   "name": "python3"
  },
  "language_info": {
   "codemirror_mode": {
    "name": "ipython",
    "version": 3
   },
   "file_extension": ".py",
   "mimetype": "text/x-python",
   "name": "python",
   "nbconvert_exporter": "python",
   "pygments_lexer": "ipython3",
   "version": "3.12.1"
  }
 },
 "nbformat": 4,
 "nbformat_minor": 2
}
